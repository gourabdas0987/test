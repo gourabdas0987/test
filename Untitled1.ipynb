{
  "nbformat": 4,
  "nbformat_minor": 0,
  "metadata": {
    "colab": {
      "name": "Untitled1.ipynb",
      "provenance": []
    },
    "kernelspec": {
      "name": "python3",
      "display_name": "Python 3"
    },
    "language_info": {
      "name": "python"
    }
  },
  "cells": [
    {
      "cell_type": "code",
      "metadata": {
        "colab": {
          "base_uri": "https://localhost:8080/"
        },
        "id": "uRErvYxIk_hz",
        "outputId": "4aec0c1e-21d9-4dab-e813-a661b2ff28a2"
      },
      "source": [
        "1. #display the following text:\n",
        "\n",
        "print(\"I am here to learn \\python\\ programming.\")"
      ],
      "execution_count": 3,
      "outputs": [
        {
          "output_type": "stream",
          "name": "stdout",
          "text": [
            "I am here to learn \\python\\ programming.\n"
          ]
        }
      ]
    },
    {
      "cell_type": "code",
      "metadata": {
        "colab": {
          "base_uri": "https://localhost:8080/"
        },
        "id": "GqRoH94wmATw",
        "outputId": "b89e5893-041e-4358-9d83-6d5e3b313ed3"
      },
      "source": [
        "2. #Ask a user to enter his name and then print a message:\n",
        "\n",
        "name = input(\"Enter your name: \")\n",
        "print(\"Hi\", name+ \", welcome to this course\")"
      ],
      "execution_count": 13,
      "outputs": [
        {
          "output_type": "stream",
          "name": "stdout",
          "text": [
            "Enter your name: gourob\n",
            "Hi gourob, welcome to this course\n"
          ]
        }
      ]
    },
    {
      "cell_type": "code",
      "metadata": {
        "colab": {
          "base_uri": "https://localhost:8080/"
        },
        "id": "AXXxAWWdnoKh",
        "outputId": "1f92f2e4-2322-48f3-c78e-6b493bc717fb"
      },
      "source": [
        "3. # This is also a coment just like yhe aboe list\n",
        " \n",
        "print('''Twinkle, twinkle, little star\n",
        "How I wonder what you are\n",
        "Up above the world so high\n",
        "Like a diamond in the sky''')"
      ],
      "execution_count": 14,
      "outputs": [
        {
          "output_type": "stream",
          "name": "stdout",
          "text": [
            "Twinkle, twinkle, little star\n",
            "How I wonder what you are\n",
            "Up above the world so high\n",
            "Like a diamond in the sky\n"
          ]
        }
      ]
    }
  ]
}